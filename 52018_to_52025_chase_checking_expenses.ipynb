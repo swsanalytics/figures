{
 "cells": [
  {
   "cell_type": "markdown",
   "id": "16e07ff7-d614-4044-a48c-397f4f81dfde",
   "metadata": {},
   "source": [
    "### Chase Checking Account - Expense Trends (5/2018-5/2025)\n",
    "\n",
    "<hr>"
   ]
  },
  {
   "cell_type": "code",
   "execution_count": 2,
   "id": "c71735ca-80ed-4344-9d2e-8dc9d78647cf",
   "metadata": {},
   "outputs": [],
   "source": [
    "import pandas as pd\n",
    "import pandas as pd\n",
    "import numpy as np\n",
    "import plotly.graph_objs as go\n",
    "from sklearn.linear_model import LinearRegression\n",
    "\n"
   ]
  },
  {
   "cell_type": "code",
   "execution_count": 6,
   "id": "0ab9ffbe-6ce4-4750-a1d4-7b07505dc24b",
   "metadata": {},
   "outputs": [
    {
     "data": {
      "application/vnd.plotly.v1+json": {
       "config": {
        "plotlyServerURL": "https://plot.ly"
       },
       "data": [
        {
         "hoverinfo": "text+y",
         "line": {
          "color": "rgba(0,100,200,0.6)",
          "width": 2
         },
         "mode": "lines+markers",
         "name": "Monthly Expenses",
         "text": [
          "Mortgage and Housing: $1,774.24<br>Restaurant Expense: $1,034.73<br>Misc Household Expense: $753.39<br>Justin - Car: $653.70<br>Groceries: $596.23<br>Justin - Solo Entertainment: $490.82<br>Spenser - Car: $411.77<br>Medical / Medicine: $305.36<br>Utility Account: $231.73<br>Checking Withdrawal: $182.50<br>Spenser - Solo Entertainment: $100.70<br>Amazon.com: $23.37",
          "Mortgage and Housing: $2,582.82<br>Restaurant Expense: $1,691.25<br>Misc Household Expense: $999.91<br>Groceries: $861.18<br>Justin - Solo Entertainment: $693.71<br>Justin - Car: $653.70<br>Utility Account: $479.58<br>Spenser - Car: $392.16<br>Checking Withdrawal: $280.00<br>Medical / Medicine: $254.07<br>Spenser - Solo Entertainment: $237.11<br>Spenser - Educational Expense: $231.77<br>Amazon.com: $105.36",
          "Mortgage and Housing: $1,724.25<br>Groceries: $1,227.12<br>Restaurant Expense: $1,015.16<br>Justin - Solo Entertainment: $980.13<br>Justin - Car: $653.70<br>Spenser - Car: $411.77<br>Misc Household Expense: $410.99<br>Medical / Medicine: $290.42<br>Utility Account: $290.22<br>Spenser - Educational Expense: $231.77<br>Checking Withdrawal: $120.00<br>Spenser - Solo Entertainment: $45.00<br>Amazon.com: $19.60",
          "Mortgage and Housing: $1,724.25<br>Restaurant Expense: $1,331.58<br>Justin - Solo Entertainment: $1,079.06<br>Misc Household Expense: $953.28<br>Groceries: $943.15<br>Justin - Car: $807.88<br>Misc Entertainment: $405.60<br>Medical / Medicine: $403.05<br>Spenser - Car: $392.16<br>Amazon.com: $386.61<br>Utility Account: $372.14<br>Checking Withdrawal: $283.00<br>Spenser - Educational Expense: $200.00<br>Spenser - Solo Entertainment: $9.95",
          "Restaurant Expense: $2,016.24<br>Mortgage and Housing: $1,724.25<br>Misc Entertainment: $723.32<br>Misc Household Expense: $715.87<br>Justin - Solo Entertainment: $714.70<br>Justin - Car: $489.87<br>Groceries: $446.86<br>Spenser - Car: $411.77<br>Checking Withdrawal: $300.00<br>Utility Account: $271.90<br>Amazon.com: $209.41<br>Medical / Medicine: $133.31<br>Spenser - Educational Expense: $100.77",
          "Groceries: $2,480.44<br>Mortgage and Housing: $1,724.25<br>Misc Household Expense: $1,560.74<br>Restaurant Expense: $1,230.75<br>Justin - Solo Entertainment: $882.00<br>Amazon.com: $878.74<br>Justin - Car: $644.03<br>Medical / Medicine: $502.69<br>Utility Account: $484.09<br>Checking Withdrawal: $405.50<br>Spenser - Educational Expense: $231.77<br>Spenser - Solo Entertainment: $131.38",
          "Mortgage and Housing: $1,724.25<br>Justin - Solo Entertainment: $1,475.17<br>Restaurant Expense: $1,270.03<br>Spenser - Car: $803.93<br>Justin - Car: $803.19<br>Groceries: $744.85<br>Amazon.com: $510.44<br>Spenser - Educational Expense: $463.54<br>Medical / Medicine: $417.78<br>Misc Household Expense: $378.34<br>Checking Withdrawal: $323.00<br>Spenser - Solo Entertainment: $244.60<br>Utility Account: $213.37",
          "Misc Household Expense: $2,198.96<br>Mortgage and Housing: $1,844.25<br>Restaurant Expense: $1,638.50<br>Amazon.com: $944.02<br>Justin - Solo Entertainment: $885.98<br>Groceries: $791.43<br>Justin - Car: $489.87<br>Spenser - Car: $392.16<br>Utility Account: $377.83<br>Medical / Medicine: $207.38<br>Spenser - Solo Entertainment: $29.85",
          "Misc Household Expense: $3,343.05<br>Mortgage and Housing: $1,784.25<br>Justin - Solo Entertainment: $1,393.06<br>Misc Entertainment: $1,072.25<br>Amazon.com: $920.18<br>Restaurant Expense: $808.55<br>Checking Withdrawal: $803.00<br>Justin - Car: $644.03<br>Groceries: $610.68<br>Spenser - Car: $569.96<br>Medical / Medicine: $442.69<br>Spenser - Educational Expense: $231.77<br>Utility Account: $188.61<br>Spenser - Solo Entertainment: $139.35",
          "Restaurant Expense: $1,818.37<br>Mortgage and Housing: $1,794.25<br>Amazon.com: $1,180.69<br>Justin - Solo Entertainment: $951.15<br>Misc Household Expense: $897.47<br>Justin - Car: $808.06<br>Groceries: $768.78<br>Medical / Medicine: $565.17<br>Checking Withdrawal: $400.00<br>Spenser - Car: $392.16<br>Utility Account: $389.00<br>Spenser - Solo Entertainment: $260.59<br>Spenser - Educational Expense: $231.77",
          "Mortgage and Housing: $1,824.25<br>Restaurant Expense: $1,464.60<br>Justin - Solo Entertainment: $1,059.20<br>Groceries: $704.36<br>Amazon.com: $592.35<br>Medical / Medicine: $584.16<br>Checking Withdrawal: $563.50<br>Justin - Car: $489.87<br>Spenser - Car: $481.26<br>Misc Household Expense: $472.42<br>Utility Account: $352.06<br>Spenser - Educational Expense: $231.77<br>Spenser - Solo Entertainment: $73.05",
          "Mortgage and Housing: $1,883.24<br>Restaurant Expense: $1,387.07<br>Justin - Solo Entertainment: $883.81<br>Justin - Car: $643.87<br>Misc Household Expense: $510.11<br>Checking Withdrawal: $483.25<br>Spenser - Car: $481.26<br>Misc Entertainment: $453.00<br>Groceries: $420.69<br>Spenser - Solo Entertainment: $376.24<br>Medical / Medicine: $318.61<br>Spenser - Educational Expense: $300.00<br>Utility Account: $292.95<br>Amazon.com: $106.22",
          "Mortgage and Housing: $1,883.24<br>Restaurant Expense: $1,290.77<br>Justin - Car: $643.87<br>Groceries: $635.29<br>Checking Withdrawal: $566.50<br>Misc Household Expense: $517.14<br>Amazon.com: $486.92<br>Spenser - Car: $481.26<br>Misc Entertainment: $453.00<br>Justin - Solo Entertainment: $440.25<br>Utility Account: $388.42<br>Medical / Medicine: $336.22<br>Spenser - Solo Entertainment: $204.49<br>Spenser - Educational Expense: $163.54",
          "Mortgage and Housing: $2,726.24<br>Misc Household Expense: $1,381.67<br>Restaurant Expense: $969.76<br>Groceries: $935.19<br>Justin - Solo Entertainment: $833.01<br>Justin - Car: $653.87<br>Checking Withdrawal: $563.25<br>Amazon.com: $553.34<br>Spenser - Car: $392.16<br>Medical / Medicine: $302.65<br>Utility Account: $300.06<br>Spenser - Educational Expense: $231.77<br>Misc Entertainment: $124.29<br>Spenser - Solo Entertainment: $108.57",
          "Mortgage and Housing: $1,883.24<br>Restaurant Expense: $1,272.78<br>Justin - Solo Entertainment: $979.57<br>Groceries: $820.23<br>Justin - Car: $643.87<br>Spenser - Car: $575.15<br>Misc Household Expense: $535.46<br>Utility Account: $341.63<br>Medical / Medicine: $327.93<br>Checking Withdrawal: $260.00<br>Spenser - Educational Expense: $231.77<br>Amazon.com: $129.95<br>Spenser - Solo Entertainment: $80.00<br>Misc Entertainment: $17.31",
          "Mortgage and Housing: $1,883.24<br>Restaurant Expense: $1,629.83<br>Justin - Solo Entertainment: $1,131.47<br>Groceries: $1,035.23<br>Misc Household Expense: $1,032.74<br>Amazon.com: $886.17<br>Justin - Car: $653.83<br>Spenser - Car: $485.05<br>Checking Withdrawal: $483.50<br>Utility Account: $406.69<br>Medical / Medicine: $378.16<br>Spenser - Educational Expense: $231.77<br>Spenser - Solo Entertainment: $99.73<br>Misc Entertainment: $30.31",
          "Mortgage and Housing: $1,883.24<br>Restaurant Expense: $1,332.55<br>Groceries: $1,235.26<br>Justin - Solo Entertainment: $871.92<br>Justin - Car: $656.57<br>Spenser - Car: $485.05<br>Misc Household Expense: $448.43<br>Spenser - Educational Expense: $400.00<br>Medical / Medicine: $394.69<br>Utility Account: $303.59<br>Checking Withdrawal: $300.00<br>Amazon.com: $241.48<br>Spenser - Solo Entertainment: $73.60<br>Misc Entertainment: $17.31",
          "Mortgage and Housing: $1,883.24<br>Groceries: $828.14<br>Justin - Car: $823.21<br>Restaurant Expense: $734.00<br>Justin - Solo Entertainment: $598.78<br>Misc Household Expense: $591.89<br>Amazon.com: $557.86<br>Spenser - Car: $485.05<br>Checking Withdrawal: $400.00<br>Utility Account: $339.30<br>Medical / Medicine: $300.55<br>Spenser - Educational Expense: $295.31<br>Spenser - Solo Entertainment: $19.59<br>Misc Entertainment: $17.31",
          "Mortgage and Housing: $1,910.02<br>Misc Household Expense: $647.47<br>Groceries: $542.04<br>Justin - Car: $489.87<br>Spenser - Car: $485.05<br>Amazon.com: $469.58<br>Spenser - Educational Expense: $463.54<br>Restaurant Expense: $451.28<br>Medical / Medicine: $435.38<br>Utility Account: $359.24<br>Justin - Solo Entertainment: $271.09<br>Checking Withdrawal: $200.00<br>Misc Entertainment: $17.31",
          "Mortgage and Housing: $1,910.02<br>Restaurant Expense: $1,047.18<br>Justin - Car: $818.21<br>Groceries: $741.97<br>Amazon.com: $623.86<br>Spenser - Car: $584.25<br>Checking Withdrawal: $520.00<br>Misc Household Expense: $430.71<br>Spenser - Solo Entertainment: $408.05<br>Justin - Solo Entertainment: $366.02<br>Medical / Medicine: $333.09<br>Utility Account: $313.47<br>Misc Entertainment: $17.31",
          "Spenser - Educational Expense: $14,000.00<br>Mortgage and Housing: $1,910.02<br>Groceries: $1,659.99<br>Amazon.com: $1,656.86<br>Restaurant Expense: $823.18<br>Justin - Car: $489.87<br>Spenser - Solo Entertainment: $402.26<br>Spenser - Car: $392.16<br>Medical / Medicine: $381.32<br>Utility Account: $309.07<br>Misc Household Expense: $265.79<br>Checking Withdrawal: $240.00<br>Justin - Solo Entertainment: $233.31<br>Misc Entertainment: $17.31",
          "Amazon.com: $2,116.89<br>Mortgage and Housing: $1,910.02<br>Groceries: $939.56<br>Justin - Car: $656.49<br>Spenser - Car: $392.16<br>Utility Account: $349.34<br>Spenser - Solo Entertainment: $319.02<br>Misc Household Expense: $40.09<br>Spenser - Mother: $40.00<br>Misc Entertainment: $17.31<br>Justin - Solo Entertainment: $16.53",
          "Amazon.com: $2,604.73<br>Mortgage and Housing: $1,910.02<br>Justin - Car: $801.31<br>Spenser - Car: $586.64<br>Groceries: $519.49<br>Spenser - Solo Entertainment: $351.93<br>Utility Account: $321.08<br>Spenser - Educational Expense: $200.00<br>Misc Entertainment: $17.31",
          "Mortgage and Housing: $10,642.24<br>Amazon.com: $1,279.87<br>Medical / Medicine: $850.28<br>Justin - Car: $629.40<br>Misc Household Expense: $569.85<br>Spenser - Solo Entertainment: $439.03<br>Spenser - Car: $392.16<br>Utility Account: $358.50<br>Misc Entertainment: $17.31",
          "Misc Household Expense: $3,835.70<br>Mortgage and Housing: $1,702.28<br>Amazon.com: $893.36<br>Justin - Car: $660.87<br>Spenser - Car: $643.05<br>Utility Account: $380.09<br>Groceries: $133.02<br>Medical / Medicine: $27.77<br>Misc Entertainment: $17.31<br>Spenser - Solo Entertainment: $1.07",
          "Mortgage and Housing: $4,847.87<br>Amazon.com: $3,553.63<br>Misc Household Expense: $3,459.14<br>Utility Account: $749.05<br>Justin - Car: $660.87<br>Spenser - Solo Entertainment: $431.61<br>Spenser - Car: $402.55<br>Restaurant Expense: $308.74<br>Groceries: $270.66<br>Medical / Medicine: $159.51<br>Misc Entertainment: $17.31",
          "Amazon.com: $2,724.63<br>Utility Account: $902.99<br>Justin - Car: $489.87<br>Spenser - Car: $487.05<br>Restaurant Expense: $461.96<br>Spenser - Solo Entertainment: $409.95<br>Groceries: $290.77<br>Medical / Medicine: $136.92<br>Misc Household Expense: $56.01<br>Misc Entertainment: $17.31",
          "Mortgage and Housing: $2,848.15<br>Amazon.com: $2,344.26<br>Misc Household Expense: $886.96<br>Groceries: $886.19<br>Justin - Car: $721.08<br>Restaurant Expense: $552.70<br>Utility Account: $521.79<br>Spenser - Car: $487.05<br>Medical / Medicine: $412.73<br>Spenser - Solo Entertainment: $409.55<br>Misc Entertainment: $17.31",
          "Mortgage and Housing: $3,161.41<br>Amazon.com: $1,814.33<br>Groceries: $831.39<br>Restaurant Expense: $765.41<br>Justin - Car: $489.87<br>Spenser - Car: $487.05<br>Misc Household Expense: $479.49<br>Utility Account: $444.99<br>Medical / Medicine: $237.43<br>Misc Entertainment: $17.31",
          "Mortgage and Housing: $22,096.95<br>Amazon.com: $4,149.27<br>Misc Household Expense: $2,228.73<br>Groceries: $1,570.59<br>Justin - Car: $648.49<br>Restaurant Expense: $533.34<br>Utility Account: $480.03<br>Spenser - Car: $480.02<br>Spenser - Solo Entertainment: $164.20<br>Medical / Medicine: $162.06<br>Justin - Solo Entertainment: $88.21<br>Misc Entertainment: $17.31",
          "Mortgage and Housing: $2,848.15<br>Justin - Car: $2,607.34<br>Amazon.com: $1,159.56<br>Restaurant Expense: $692.16<br>Groceries: $684.87<br>Utility Account: $488.59<br>Spenser - Car: $485.06<br>Misc Household Expense: $445.24<br>Spenser - Solo Entertainment: $278.13<br>Medical / Medicine: $196.45<br>Misc Entertainment: $17.31",
          "Mortgage and Housing: $2,848.15<br>Amazon.com: $2,390.80<br>Misc Household Expense: $996.63<br>Restaurant Expense: $770.02<br>Justin - Car: $752.72<br>Groceries: $577.37<br>Spenser - Car: $483.06<br>Utility Account: $460.54<br>Medical / Medicine: $409.96<br>Spenser - Solo Entertainment: $70.78<br>Misc Entertainment: $19.47",
          "Justin - Solo Entertainment: $7,618.75<br>Amazon.com: $3,250.78<br>Mortgage and Housing: $2,848.15<br>Groceries: $1,172.37<br>Restaurant Expense: $895.79<br>Misc Household Expense: $763.01<br>Justin - Car: $753.65<br>Utility Account: $637.96<br>Spenser - Car: $483.06<br>Spenser - Solo Entertainment: $352.99<br>Medical / Medicine: $245.03<br>Misc Entertainment: $19.47",
          "Amazon.com: $2,869.85<br>Mortgage and Housing: $2,848.15<br>Restaurant Expense: $1,290.27<br>Justin - Car: $753.65<br>Groceries: $642.72<br>Misc Household Expense: $547.09<br>Spenser - Car: $483.06<br>Justin - Solo Entertainment: $477.08<br>Utility Account: $402.65<br>Medical / Medicine: $229.34<br>Misc Entertainment: $19.47",
          "Mortgage and Housing: $2,848.15<br>Amazon.com: $2,383.15<br>Misc Household Expense: $1,296.01<br>Justin - Car: $753.65<br>Groceries: $729.87<br>Restaurant Expense: $551.23<br>Spenser - Car: $483.06<br>Utility Account: $480.90<br>Medical / Medicine: $53.31<br>Misc Entertainment: $19.47",
          "Mortgage and Housing: $3,647.73<br>Amazon.com: $3,014.08<br>Misc Household Expense: $1,581.69<br>Groceries: $1,247.31<br>Restaurant Expense: $759.82<br>Justin - Car: $753.65<br>Spenser - Car: $483.06<br>Utility Account: $427.14<br>Medical / Medicine: $200.64<br>Misc Entertainment: $19.47<br>Spenser - Solo Entertainment: $3.78",
          "Mortgage and Housing: $4,184.15<br>Amazon.com: $1,736.85<br>Misc Household Expense: $1,358.44<br>Restaurant Expense: $1,207.27<br>Justin - Car: $753.64<br>Utility Account: $558.94<br>Spenser - Car: $482.79<br>Groceries: $384.88<br>Medical / Medicine: $125.60<br>Justin - Solo Entertainment: $92.23<br>Misc Entertainment: $19.47",
          "Mortgage and Housing: $5,611.86<br>Amazon.com: $3,565.08<br>Justin - Car: $924.20<br>Restaurant Expense: $739.60<br>Misc Household Expense: $685.60<br>Utility Account: $563.25<br>Spenser - Car: $480.83<br>Groceries: $257.55<br>Spenser - Educational Expense: $200.00<br>Medical / Medicine: $118.04<br>Misc Entertainment: $19.47",
          "Amazon.com: $3,081.40<br>Misc Household Expense: $1,358.48<br>Restaurant Expense: $780.47<br>Checking Withdrawal: $609.00<br>Justin - Car: $594.09<br>Utility Account: $517.49<br>Spenser - Car: $480.83<br>Groceries: $311.96<br>Misc Entertainment: $19.47<br>Medical / Medicine: $17.99",
          "Mortgage and Housing: $5,527.42<br>Amazon.com: $2,093.71<br>Justin - Car: $919.89<br>Checking Withdrawal: $609.00<br>Restaurant Expense: $581.47<br>Utility Account: $537.37<br>Spenser - Car: $480.83<br>Groceries: $476.71<br>Medical / Medicine: $95.91<br>Misc Household Expense: $81.50<br>Misc Entertainment: $19.47<br>Justin - Solo Entertainment: $8.00",
          "Spenser - Educational Expense: $19,406.72<br>Amazon.com: $5,812.29<br>Spenser - Car: $1,950.71<br>Restaurant Expense: $1,099.88<br>Groceries: $951.37<br>Mortgage and Housing: $823.49<br>Checking Withdrawal: $812.00<br>Misc Household Expense: $628.49<br>Utility Account: $595.00<br>Justin - Car: $594.09<br>Medical / Medicine: $243.17<br>Justin - Solo Entertainment: $158.47<br>Misc Entertainment: $62.76",
          "Mortgage and Housing: $5,527.42<br>Amazon.com: $1,861.43<br>Checking Withdrawal: $1,216.25<br>Justin - Car: $756.99<br>Groceries: $714.24<br>Restaurant Expense: $573.55<br>Utility Account: $533.65<br>Medical / Medicine: $524.39<br>Spenser - Solo Entertainment: $289.14<br>Misc Household Expense: $210.29<br>Spenser - Mother: $100.00<br>Spenser - Car: $87.69<br>Misc Entertainment: $19.47",
          "Amazon.com: $2,235.35<br>Justin - Car: $919.89<br>Checking Withdrawal: $606.50<br>Utility Account: $528.62<br>Spenser - Solo Entertainment: $370.81<br>Spenser - Mother: $200.00<br>Groceries: $165.91<br>Spenser - Car: $107.42<br>Medical / Medicine: $106.71<br>Restaurant Expense: $100.45<br>Misc Household Expense: $32.01<br>Misc Entertainment: $19.47",
          "Mortgage and Housing: $2,763.71<br>Amazon.com: $1,824.46<br>Justin - Car: $594.09<br>Checking Withdrawal: $546.50<br>Utility Account: $541.59<br>Spenser - Solo Entertainment: $450.00<br>Medical / Medicine: $385.70<br>Restaurant Expense: $311.00<br>Groceries: $234.56<br>Spenser - Car: $96.17<br>Misc Household Expense: $77.23<br>Misc Entertainment: $19.47",
          "Amazon.com: $3,016.45<br>Mortgage and Housing: $2,763.71<br>Checking Withdrawal: $1,519.50<br>Justin - Car: $919.89<br>Utility Account: $571.51<br>Spenser - Solo Entertainment: $513.00<br>Restaurant Expense: $392.14<br>Groceries: $213.99<br>Misc Household Expense: $166.32<br>Medical / Medicine: $146.83<br>Spenser - Car: $96.17<br>Misc Entertainment: $19.47",
          "Mortgage and Housing: $2,763.71<br>Amazon.com: $2,301.65<br>Checking Withdrawal: $813.00<br>Justin - Car: $756.99<br>Spenser - Solo Entertainment: $556.90<br>Restaurant Expense: $556.48<br>Misc Household Expense: $535.44<br>Utility Account: $512.99<br>Groceries: $296.62<br>Spenser - Mother: $250.00<br>Medical / Medicine: $131.19<br>Spenser - Car: $96.17<br>Misc Entertainment: $21.64",
          "Mortgage and Housing: $2,842.44<br>Amazon.com: $1,970.88<br>Checking Withdrawal: $1,109.75<br>Restaurant Expense: $981.12<br>Misc Household Expense: $671.23<br>Spenser - Solo Entertainment: $639.00<br>Justin - Car: $594.09<br>Utility Account: $495.80<br>Groceries: $368.79<br>Medical / Medicine: $156.44<br>Spenser - Car: $96.17<br>Misc Entertainment: $21.64",
          "Mortgage and Housing: $2,742.44<br>Amazon.com: $2,047.72<br>Restaurant Expense: $1,288.76<br>Checking Withdrawal: $849.75<br>Justin - Solo Entertainment: $845.03<br>Misc Household Expense: $666.04<br>Utility Account: $632.49<br>Justin - Car: $594.09<br>Spenser - Solo Entertainment: $514.99<br>Groceries: $350.65<br>Medical / Medicine: $205.47<br>Spenser - Car: $96.19<br>Misc Entertainment: $21.64",
          "Mortgage and Housing: $5,451.93<br>Misc Household Expense: $1,993.15<br>Amazon.com: $1,337.59<br>Restaurant Expense: $1,119.79<br>Justin - Car: $757.99<br>Spenser - Solo Entertainment: $733.53<br>Utility Account: $563.45<br>Groceries: $517.62<br>Checking Withdrawal: $250.00<br>Spenser - Mother: $200.00<br>Medical / Medicine: $159.06<br>Spenser - Car: $98.13<br>Justin - Solo Entertainment: $37.42<br>Misc Entertainment: $21.64",
          "Mortgage and Housing: $2,742.44<br>Restaurant Expense: $1,802.38<br>Amazon.com: $1,095.35<br>Misc Household Expense: $953.95<br>Checking Withdrawal: $909.75<br>Justin - Car: $757.99<br>Utility Account: $629.96<br>Justin - Solo Entertainment: $262.13<br>Spenser - Solo Entertainment: $194.92<br>Groceries: $158.27<br>Spenser - Car: $96.17<br>Medical / Medicine: $72.31<br>Misc Entertainment: $21.64",
          "Mortgage and Housing: $2,742.44<br>Amazon.com: $1,431.05<br>Justin - Car: $757.99<br>Restaurant Expense: $606.17<br>Checking Withdrawal: $506.50<br>Utility Account: $475.54<br>Misc Entertainment: $426.64<br>Justin - Solo Entertainment: $372.43<br>Spenser - Solo Entertainment: $364.52<br>Groceries: $253.85<br>Misc Household Expense: $184.24<br>Medical / Medicine: $124.09<br>Spenser - Car: $96.17<br>Spenser - Mother: $50.00",
          "Mortgage and Housing: $2,742.44<br>Amazon.com: $1,441.66<br>Restaurant Expense: $1,440.59<br>Justin - Car: $757.99<br>Misc Household Expense: $581.66<br>Utility Account: $571.43<br>Checking Withdrawal: $446.75<br>Spenser - Solo Entertainment: $255.94<br>Medical / Medicine: $216.20<br>Misc Entertainment: $191.64<br>Groceries: $145.67<br>Justin - Solo Entertainment: $129.03<br>Spenser - Mother: $125.00<br>Spenser - Car: $96.17",
          "Mortgage and Housing: $2,742.44<br>Amazon.com: $1,659.09<br>Misc Entertainment: $1,242.64<br>Checking Withdrawal: $1,113.00<br>Restaurant Expense: $980.92<br>Groceries: $979.84<br>Justin - Car: $787.07<br>Misc Household Expense: $662.94<br>Utility Account: $512.06<br>Spenser - Solo Entertainment: $404.95<br>Medical / Medicine: $231.14<br>Spenser - Mother: $100.00<br>Spenser - Car: $96.17<br>Justin - Solo Entertainment: $94.77",
          "Mortgage and Housing: $3,565.93<br>Justin - Solo Entertainment: $2,575.48<br>Misc Household Expense: $2,484.43<br>Restaurant Expense: $1,895.54<br>Checking Withdrawal: $810.45<br>Misc Entertainment: $807.57<br>Justin - Car: $787.07<br>Amazon.com: $673.88<br>Utility Account: $603.60<br>Spenser - Solo Entertainment: $565.97<br>Medical / Medicine: $149.99<br>Groceries: $135.46<br>Spenser - Car: $96.19<br>Spenser - Mother: $75.00",
          "Restaurant Expense: $2,917.30<br>Mortgage and Housing: $2,742.44<br>Spenser - Solo Entertainment: $1,972.28<br>Checking Withdrawal: $1,324.25<br>Amazon.com: $1,289.64<br>Misc Household Expense: $1,060.73<br>Justin - Solo Entertainment: $914.90<br>Justin - Car: $787.07<br>Utility Account: $570.72<br>Groceries: $478.67<br>Medical / Medicine: $424.65<br>Spenser - Car: $103.69<br>Spenser - Mother: $100.00<br>Misc Entertainment: $21.64",
          "Mortgage and Housing: $2,742.44<br>Restaurant Expense: $2,490.64<br>Spenser - Solo Entertainment: $1,816.59<br>Amazon.com: $1,344.83<br>Medical / Medicine: $1,159.28<br>Misc Household Expense: $842.95<br>Justin - Car: $787.07<br>Groceries: $763.82<br>Checking Withdrawal: $608.00<br>Utility Account: $605.48<br>Justin - Solo Entertainment: $139.08<br>Spenser - Car: $101.74<br>Misc Entertainment: $21.64",
          "Spenser - Car: $7,601.74<br>Amazon.com: $4,002.33<br>Mortgage and Housing: $2,742.44<br>Restaurant Expense: $2,122.70<br>Misc Household Expense: $1,476.67<br>Checking Withdrawal: $1,420.00<br>Justin - Car: $787.07<br>Groceries: $779.09<br>Justin - Solo Entertainment: $587.07<br>Spenser - Solo Entertainment: $560.70<br>Utility Account: $516.90<br>Medical / Medicine: $386.35<br>Misc Entertainment: $104.04",
          "Mortgage and Housing: $2,742.44<br>Misc Household Expense: $1,682.20<br>Spenser - Car: $1,481.12<br>Restaurant Expense: $1,389.14<br>Checking Withdrawal: $1,296.00<br>Groceries: $1,171.35<br>Amazon.com: $1,069.42<br>Justin - Car: $787.07<br>Spenser - Solo Entertainment: $731.59<br>Utility Account: $480.14<br>Justin - Solo Entertainment: $228.21<br>Medical / Medicine: $124.93<br>Spenser - Mother: $100.00<br>Misc Entertainment: $21.64",
          "Mortgage and Housing: $3,602.29<br>Restaurant Expense: $1,850.14<br>Amazon.com: $1,415.95<br>Spenser - Car: $1,303.69<br>Misc Household Expense: $844.22<br>Justin - Car: $787.07<br>Checking Withdrawal: $772.00<br>Utility Account: $530.12<br>Medical / Medicine: $500.72<br>Spenser - Solo Entertainment: $493.57<br>Groceries: $441.81<br>Justin - Solo Entertainment: $129.94<br>Misc Entertainment: $21.64",
          "Mortgage and Housing: $2,778.80<br>Spenser - Car: $1,303.71<br>Amazon.com: $1,120.46<br>Restaurant Expense: $960.02<br>Justin - Car: $787.07<br>Misc Household Expense: $707.64<br>Groceries: $656.45<br>Justin - Solo Entertainment: $570.51<br>Spenser - Solo Entertainment: $506.10<br>Utility Account: $418.52<br>Misc Entertainment: $314.64<br>Checking Withdrawal: $303.75<br>Medical / Medicine: $125.10",
          "Mortgage and Housing: $5,527.80<br>Restaurant Expense: $1,650.91<br>Spenser - Solo Entertainment: $1,574.51<br>Amazon.com: $1,508.14<br>Spenser - Car: $1,297.49<br>Misc Household Expense: $811.42<br>Groceries: $793.13<br>Justin - Car: $787.07<br>Utility Account: $498.99<br>Justin - Solo Entertainment: $494.60<br>Checking Withdrawal: $303.75<br>Medical / Medicine: $210.82<br>Misc Entertainment: $21.64",
          "Mortgage and Housing: $2,778.80<br>Amazon.com: $1,798.45<br>Restaurant Expense: $1,443.55<br>Spenser - Car: $1,293.62<br>Spenser - Solo Entertainment: $982.38<br>Misc Household Expense: $977.30<br>Checking Withdrawal: $911.25<br>Justin - Car: $787.07<br>Groceries: $769.09<br>Utility Account: $599.62<br>Justin - Solo Entertainment: $312.65<br>Medical / Medicine: $119.97<br>Misc Entertainment: $21.64",
          "Mortgage and Housing: $2,778.80<br>Amazon.com: $1,430.78<br>Restaurant Expense: $1,421.53<br>Spenser - Car: $1,293.62<br>Checking Withdrawal: $911.25<br>Misc Household Expense: $889.91<br>Justin - Car: $787.07<br>Utility Account: $695.79<br>Spenser - Solo Entertainment: $498.03<br>Justin - Solo Entertainment: $399.66<br>Groceries: $378.73<br>Medical / Medicine: $226.74<br>Misc Entertainment: $21.64",
          "Mortgage and Housing: $2,778.80<br>Amazon.com: $1,541.17<br>Spenser - Car: $1,293.62<br>Restaurant Expense: $1,041.05<br>Spenser - Solo Entertainment: $825.66<br>Justin - Car: $787.07<br>Groceries: $731.23<br>Utility Account: $700.04<br>Misc Household Expense: $638.31<br>Checking Withdrawal: $507.50<br>Justin - Solo Entertainment: $477.02<br>Medical / Medicine: $151.31<br>Spenser - Mother: $100.00<br>Misc Entertainment: $21.64",
          "Amazon.com: $2,966.45<br>Mortgage and Housing: $2,778.80<br>Checking Withdrawal: $1,322.70<br>Restaurant Expense: $1,303.29<br>Spenser - Car: $1,293.62<br>Spenser - Solo Entertainment: $1,103.08<br>Groceries: $903.81<br>Justin - Car: $824.82<br>Misc Household Expense: $662.00<br>Utility Account: $636.49<br>Medical / Medicine: $267.88<br>Misc Entertainment: $238.73<br>Justin - Solo Entertainment: $219.85",
          "Mortgage and Housing: $3,627.00<br>Amazon.com: $1,647.01<br>Spenser - Car: $1,293.61<br>Medical / Medicine: $1,197.63<br>Misc Entertainment: $1,043.15<br>Restaurant Expense: $961.05<br>Justin - Car: $824.82<br>Groceries: $620.39<br>Checking Withdrawal: $607.50<br>Utility Account: $567.82<br>Spenser - Mother: $307.00<br>Spenser - Solo Entertainment: $175.93<br>Justin - Solo Entertainment: $166.43<br>Misc Household Expense: $151.13",
          "Mortgage and Housing: $2,778.80<br>Amazon.com: $2,157.07<br>Spenser - Car: $1,318.68<br>Justin - Solo Entertainment: $961.24<br>Restaurant Expense: $868.62<br>Justin - Car: $824.82<br>Checking Withdrawal: $707.50<br>Misc Household Expense: $703.97<br>Utility Account: $623.43<br>Spenser - Solo Entertainment: $301.41<br>Medical / Medicine: $236.81<br>Groceries: $214.93<br>Misc Entertainment: $24.89",
          "Mortgage and Housing: $5,557.60<br>Amazon.com: $1,959.00<br>Misc Household Expense: $1,455.00<br>Spenser - Car: $1,313.82<br>Checking Withdrawal: $1,237.86<br>Restaurant Expense: $1,206.99<br>Justin - Car: $824.82<br>Utility Account: $747.80<br>Groceries: $500.09<br>Justin - Solo Entertainment: $380.31<br>Spenser - Solo Entertainment: $233.45<br>Medical / Medicine: $207.92<br>Spenser - Mother: $200.00<br>Misc Entertainment: $24.89",
          "Amazon.com: $2,676.62<br>Spenser - Solo Entertainment: $1,985.93<br>Spenser - Car: $1,313.82<br>Restaurant Expense: $1,048.18<br>Justin - Solo Entertainment: $997.34<br>Misc Household Expense: $878.33<br>Justin - Car: $824.82<br>Groceries: $817.84<br>Checking Withdrawal: $811.45<br>Utility Account: $540.03<br>Medical / Medicine: $322.17<br>Misc Entertainment: $24.89",
          "Mortgage and Housing: $2,778.80<br>Amazon.com: $2,314.61<br>Restaurant Expense: $2,242.39<br>Spenser - Car: $1,313.82<br>Spenser - Solo Entertainment: $1,151.14<br>Checking Withdrawal: $1,115.25<br>Justin - Car: $824.82<br>Groceries: $694.66<br>Utility Account: $564.35<br>Misc Household Expense: $495.75<br>Justin - Solo Entertainment: $213.24<br>Spenser - Mother: $150.00<br>Medical / Medicine: $115.76<br>Misc Entertainment: $24.89",
          "Mortgage and Housing: $2,739.09<br>Amazon.com: $1,491.58<br>Spenser - Car: $1,272.52<br>Groceries: $1,154.14<br>Checking Withdrawal: $1,054.20<br>Restaurant Expense: $1,035.72<br>Justin - Car: $824.82<br>Spenser - Solo Entertainment: $703.06<br>Utility Account: $655.12<br>Misc Household Expense: $586.74<br>Justin - Solo Entertainment: $337.63<br>Spenser - Mother: $100.00<br>Medical / Medicine: $79.03<br>Misc Entertainment: $24.89",
          "Mortgage and Housing: $3,587.29<br>Amazon.com: $2,391.16<br>Restaurant Expense: $1,978.11<br>Spenser - Car: $1,272.52<br>Justin - Car: $824.82<br>Spenser - Solo Entertainment: $521.61<br>Utility Account: $511.08<br>Misc Household Expense: $505.22<br>Checking Withdrawal: $447.50<br>Groceries: $408.34<br>Justin - Solo Entertainment: $238.69<br>Medical / Medicine: $140.91",
          "Misc Household Expense: $4,298.10<br>Mortgage and Housing: $2,739.09<br>Amazon.com: $1,842.47<br>Groceries: $1,094.95<br>Spenser - Car: $1,025.93<br>Restaurant Expense: $665.62<br>Utility Account: $637.87<br>Justin - Car: $636.45<br>Spenser - Solo Entertainment: $486.25<br>Checking Withdrawal: $303.75<br>Medical / Medicine: $56.57<br>Justin - Solo Entertainment: $9.73",
          "Spenser - Solo Entertainment: $4,778.88<br>Mortgage and Housing: $2,739.09<br>Amazon.com: $1,660.52<br>Misc Household Expense: $1,057.73<br>Spenser - Car: $1,025.93<br>Restaurant Expense: $1,015.01<br>Checking Withdrawal: $751.25<br>Groceries: $749.74<br>Utility Account: $707.70<br>Justin - Car: $594.09<br>Medical / Medicine: $132.53<br>Justin - Solo Entertainment: $57.60",
          "Justin - Car: $4,569.09<br>Mortgage and Housing: $2,739.09<br>Checking Withdrawal: $1,518.95<br>Amazon.com: $1,178.71<br>Spenser - Car: $1,025.93<br>Restaurant Expense: $868.14<br>Utility Account: $665.30<br>Misc Household Expense: $647.35<br>Justin - Solo Entertainment: $576.83<br>Spenser - Solo Entertainment: $420.29<br>Groceries: $235.10<br>Spenser - Mother: $200.00",
          "Mortgage and Housing: $2,739.09<br>Checking Withdrawal: $1,430.15<br>Groceries: $1,045.95<br>Spenser - Car: $1,025.93<br>Amazon.com: $858.43<br>Justin - Car: $757.39<br>Utility Account: $668.66<br>Restaurant Expense: $638.98<br>Justin - Solo Entertainment: $468.49<br>Spenser - Mother: $400.00<br>Misc Household Expense: $297.63<br>Spenser - Solo Entertainment: $107.23",
          "Mortgage and Housing: $2,739.09<br>Amazon.com: $1,066.35<br>Spenser - Car: $1,025.93<br>Groceries: $976.73<br>Justin - Car: $757.39<br>Restaurant Expense: $746.49<br>Utility Account: $580.22<br>Checking Withdrawal: $407.70<br>Misc Household Expense: $358.62<br>Spenser - Solo Entertainment: $282.62<br>Justin - Solo Entertainment: $144.82<br>Medical / Medicine: $116.79<br>Justin - Moving from Milroy: $85.00",
          "Mortgage and Housing: $3,612.74<br>Checking Withdrawal: $1,701.75<br>Amazon.com: $1,444.21<br>Restaurant Expense: $1,153.52<br>Spenser - Car: $1,025.93<br>Justin - Car: $757.39<br>Utility Account: $679.83<br>Misc Household Expense: $585.50<br>Spenser - Solo Entertainment: $558.52<br>Groceries: $349.97<br>Misc Entertainment: $157.94<br>Medical / Medicine: $116.46<br>Justin - Solo Entertainment: $84.41",
          "Misc Household Expense: $5,261.10<br>Mortgage and Housing: $2,739.09<br>Spenser - Car: $1,025.93<br>Groceries: $1,008.04<br>Amazon.com: $876.55<br>Justin - Car: $757.39<br>Utility Account: $748.32<br>Restaurant Expense: $715.21<br>Checking Withdrawal: $691.25<br>Justin - Solo Entertainment: $483.75<br>Spenser - Mother: $200.00<br>Medical / Medicine: $97.20",
          "Mortgage and Housing: $2,739.09<br>Restaurant Expense: $1,634.56<br>Spenser - Car: $1,025.93<br>Amazon.com: $962.38<br>Utility Account: $779.27<br>Justin - Car: $757.39<br>Checking Withdrawal: $610.45<br>Justin - Solo Entertainment: $409.92<br>Spenser - Mother: $400.00<br>Misc Household Expense: $373.01<br>Groceries: $222.89<br>Medical / Medicine: $40.11",
          "Mortgage and Housing: $2,739.09<br>Restaurant Expense: $1,256.93<br>Amazon.com: $1,072.31<br>Spenser - Car: $1,025.93<br>Utility Account: $918.08<br>Checking Withdrawal: $607.50<br>Misc Household Expense: $585.05<br>Medical / Medicine: $404.67<br>Groceries: $179.73<br>Justin - Solo Entertainment: $133.00<br>Spenser - Solo Entertainment: $76.45",
          "Mortgage and Housing: $2,739.09<br>Spenser - Car: $1,025.93<br>Utility Account: $705.53<br>Amazon.com: $609.97<br>Restaurant Expense: $543.00<br>Spenser - Mother: $417.00<br>Misc Household Expense: $408.75<br>Checking Withdrawal: $203.75<br>Justin - Solo Entertainment: $57.32<br>Groceries: $46.64<br>Spenser - Solo Entertainment: $15.00",
          "",
          ""
         ],
         "type": "scatter",
         "x": [
          "2018-07-01T00:00:00.000000000",
          "2018-08-01T00:00:00.000000000",
          "2018-09-01T00:00:00.000000000",
          "2018-10-01T00:00:00.000000000",
          "2018-11-01T00:00:00.000000000",
          "2018-12-01T00:00:00.000000000",
          "2019-01-01T00:00:00.000000000",
          "2019-02-01T00:00:00.000000000",
          "2019-03-01T00:00:00.000000000",
          "2019-04-01T00:00:00.000000000",
          "2019-05-01T00:00:00.000000000",
          "2019-06-01T00:00:00.000000000",
          "2019-07-01T00:00:00.000000000",
          "2019-08-01T00:00:00.000000000",
          "2019-09-01T00:00:00.000000000",
          "2019-10-01T00:00:00.000000000",
          "2019-11-01T00:00:00.000000000",
          "2019-12-01T00:00:00.000000000",
          "2020-01-01T00:00:00.000000000",
          "2020-02-01T00:00:00.000000000",
          "2020-03-01T00:00:00.000000000",
          "2020-04-01T00:00:00.000000000",
          "2020-05-01T00:00:00.000000000",
          "2020-06-01T00:00:00.000000000",
          "2020-07-01T00:00:00.000000000",
          "2020-08-01T00:00:00.000000000",
          "2020-09-01T00:00:00.000000000",
          "2020-10-01T00:00:00.000000000",
          "2020-11-01T00:00:00.000000000",
          "2020-12-01T00:00:00.000000000",
          "2021-01-01T00:00:00.000000000",
          "2021-02-01T00:00:00.000000000",
          "2021-03-01T00:00:00.000000000",
          "2021-04-01T00:00:00.000000000",
          "2021-05-01T00:00:00.000000000",
          "2021-06-01T00:00:00.000000000",
          "2021-07-01T00:00:00.000000000",
          "2021-08-01T00:00:00.000000000",
          "2021-09-01T00:00:00.000000000",
          "2021-10-01T00:00:00.000000000",
          "2021-11-01T00:00:00.000000000",
          "2021-12-01T00:00:00.000000000",
          "2022-01-01T00:00:00.000000000",
          "2022-02-01T00:00:00.000000000",
          "2022-03-01T00:00:00.000000000",
          "2022-04-01T00:00:00.000000000",
          "2022-05-01T00:00:00.000000000",
          "2022-06-01T00:00:00.000000000",
          "2022-07-01T00:00:00.000000000",
          "2022-08-01T00:00:00.000000000",
          "2022-09-01T00:00:00.000000000",
          "2022-10-01T00:00:00.000000000",
          "2022-11-01T00:00:00.000000000",
          "2022-12-01T00:00:00.000000000",
          "2023-01-01T00:00:00.000000000",
          "2023-02-01T00:00:00.000000000",
          "2023-03-01T00:00:00.000000000",
          "2023-04-01T00:00:00.000000000",
          "2023-05-01T00:00:00.000000000",
          "2023-06-01T00:00:00.000000000",
          "2023-07-01T00:00:00.000000000",
          "2023-08-01T00:00:00.000000000",
          "2023-09-01T00:00:00.000000000",
          "2023-10-01T00:00:00.000000000",
          "2023-11-01T00:00:00.000000000",
          "2023-12-01T00:00:00.000000000",
          "2024-01-01T00:00:00.000000000",
          "2024-02-01T00:00:00.000000000",
          "2024-03-01T00:00:00.000000000",
          "2024-04-01T00:00:00.000000000",
          "2024-05-01T00:00:00.000000000",
          "2024-06-01T00:00:00.000000000",
          "2024-07-01T00:00:00.000000000",
          "2024-08-01T00:00:00.000000000",
          "2024-09-01T00:00:00.000000000",
          "2024-10-01T00:00:00.000000000",
          "2024-11-01T00:00:00.000000000",
          "2024-12-01T00:00:00.000000000",
          "2025-01-01T00:00:00.000000000",
          "2025-02-01T00:00:00.000000000",
          "2025-03-01T00:00:00.000000000",
          "2025-04-01T00:00:00.000000000",
          "2025-05-01T00:00:00.000000000",
          "2025-06-01T00:00:00.000000000"
         ],
         "y": {
          "bdata": "16NwPYqeuUCpR6MWT3vCQBG54hkh/LxAaD8ZZdolwkBJ6tm1IiHAQDU6GNkwysVA97BnLj5OwkBheaDVHCTDQGzgdTe3S8lAtHQ947psxEAAAAAAYBXBQFyPwvUorsBArkfhenSVwEDXo3A96q3DQMexLFLjor9Aj8L1KNw/xEAfhetR2OHAQGdUNug7wr5AQpkwAd5VukBxPQrXI7K/QFyPwvVIP9ZAmpmZmVlsukD2KFyPgpC8QLgehetRpc1A9ihcj0IzwEAfhetReAbNQClcj8J1WbdA9ihcj+Kzw0CkcD0KVwzBQMzMzMzM2t9ASOF6FG5Xw0AAAAAAwBnDQD0K16NAmNJA16NwPaqhxEBmZmZmZr/CQMP1KFwvtcdAexSuRyFMxUAK16NwvbbJQEjhehQuW75AcT0K16NTxkB7FK5HQY3cQHsUrkdBP8hAcT0K1yMRtUAVrkfheqS+QArXo3B9McRAcT0K12O8wkDNzMzMrG3DQHsUrkehM8VAZmZmZqbcyUB7FK5HofDCQD4K16PQY8BA9ihcj+ICwUBxPQrXg6vGQNejcD1KJ81ACtejcP25zEDhehSuxzfKQGZmZmbGi9ZAAAAAAKD8yUCuR+F6lMrIQPYoXI9inMRA9ihcjyI8zkC4HoXrsf3IQGdmZmbG6sZAKVyPwjWlxkD2KFyPwlzMQJDC9Sg8w8lAKVyPwhXlxkBnZmZmxvTOQClcj8K16MdACtejcL1Xy0DsUbgeRY3HQAAAAACgDclAcT0K12PyykBcj8L1CNPNQHE9CtdjmsxApHA9CvdixEAAAAAA4CPCQClcj8IV4sdA16NwPeqFzEAAAAAAgHHDQIXrUbhek8FAH4XrUXiGv0AAAAAAoDXDQDMzMzOzfqdA",
          "dtype": "f8"
         }
        },
        {
         "line": {
          "color": "orange",
          "width": 3
         },
         "mode": "lines",
         "name": "3-Month Moving Avg",
         "type": "scatter",
         "x": [
          "2018-07-01T00:00:00.000000000",
          "2018-08-01T00:00:00.000000000",
          "2018-09-01T00:00:00.000000000",
          "2018-10-01T00:00:00.000000000",
          "2018-11-01T00:00:00.000000000",
          "2018-12-01T00:00:00.000000000",
          "2019-01-01T00:00:00.000000000",
          "2019-02-01T00:00:00.000000000",
          "2019-03-01T00:00:00.000000000",
          "2019-04-01T00:00:00.000000000",
          "2019-05-01T00:00:00.000000000",
          "2019-06-01T00:00:00.000000000",
          "2019-07-01T00:00:00.000000000",
          "2019-08-01T00:00:00.000000000",
          "2019-09-01T00:00:00.000000000",
          "2019-10-01T00:00:00.000000000",
          "2019-11-01T00:00:00.000000000",
          "2019-12-01T00:00:00.000000000",
          "2020-01-01T00:00:00.000000000",
          "2020-02-01T00:00:00.000000000",
          "2020-03-01T00:00:00.000000000",
          "2020-04-01T00:00:00.000000000",
          "2020-05-01T00:00:00.000000000",
          "2020-06-01T00:00:00.000000000",
          "2020-07-01T00:00:00.000000000",
          "2020-08-01T00:00:00.000000000",
          "2020-09-01T00:00:00.000000000",
          "2020-10-01T00:00:00.000000000",
          "2020-11-01T00:00:00.000000000",
          "2020-12-01T00:00:00.000000000",
          "2021-01-01T00:00:00.000000000",
          "2021-02-01T00:00:00.000000000",
          "2021-03-01T00:00:00.000000000",
          "2021-04-01T00:00:00.000000000",
          "2021-05-01T00:00:00.000000000",
          "2021-06-01T00:00:00.000000000",
          "2021-07-01T00:00:00.000000000",
          "2021-08-01T00:00:00.000000000",
          "2021-09-01T00:00:00.000000000",
          "2021-10-01T00:00:00.000000000",
          "2021-11-01T00:00:00.000000000",
          "2021-12-01T00:00:00.000000000",
          "2022-01-01T00:00:00.000000000",
          "2022-02-01T00:00:00.000000000",
          "2022-03-01T00:00:00.000000000",
          "2022-04-01T00:00:00.000000000",
          "2022-05-01T00:00:00.000000000",
          "2022-06-01T00:00:00.000000000",
          "2022-07-01T00:00:00.000000000",
          "2022-08-01T00:00:00.000000000",
          "2022-09-01T00:00:00.000000000",
          "2022-10-01T00:00:00.000000000",
          "2022-11-01T00:00:00.000000000",
          "2022-12-01T00:00:00.000000000",
          "2023-01-01T00:00:00.000000000",
          "2023-02-01T00:00:00.000000000",
          "2023-03-01T00:00:00.000000000",
          "2023-04-01T00:00:00.000000000",
          "2023-05-01T00:00:00.000000000",
          "2023-06-01T00:00:00.000000000",
          "2023-07-01T00:00:00.000000000",
          "2023-08-01T00:00:00.000000000",
          "2023-09-01T00:00:00.000000000",
          "2023-10-01T00:00:00.000000000",
          "2023-11-01T00:00:00.000000000",
          "2023-12-01T00:00:00.000000000",
          "2024-01-01T00:00:00.000000000",
          "2024-02-01T00:00:00.000000000",
          "2024-03-01T00:00:00.000000000",
          "2024-04-01T00:00:00.000000000",
          "2024-05-01T00:00:00.000000000",
          "2024-06-01T00:00:00.000000000",
          "2024-07-01T00:00:00.000000000",
          "2024-08-01T00:00:00.000000000",
          "2024-09-01T00:00:00.000000000",
          "2024-10-01T00:00:00.000000000",
          "2024-11-01T00:00:00.000000000",
          "2024-12-01T00:00:00.000000000",
          "2025-01-01T00:00:00.000000000",
          "2025-02-01T00:00:00.000000000",
          "2025-03-01T00:00:00.000000000",
          "2025-04-01T00:00:00.000000000",
          "2025-05-01T00:00:00.000000000",
          "2025-06-01T00:00:00.000000000"
         ],
         "y": {
          "bdata": "16NwPYqeuUCUmVs1lEq/QL9OMyzDhb5A3kuPrWgKwUBp1/Y3r0HAQKN2rqZksMJA0/EdP9u9wkDbdrVJ2b7DQEKu1BMG6sRAge8bUNqexUC2ceYIRu/EQAasqp0WEMJAr0fhelTIwEBMfrHk16XBQCNszXVFXMFAxD/UrxKVwkCHNf0LYqbBQEx7qc/wgMFAT/1phENJvkALuSVAv5i9QAcuNp3bgMhAFa5H4ZqEyEABAAAAAP/HQKyqqqrqC8NAuh6F6/EKxEBFREREBPXIQGXJL5Z898JAZckvllwixEDnF0t+USTAQN/d3d1NvtBA7FG4HuWu0EDRaQOddgbRQO1RuB7lNclAyJJfLPmjyUDptIFO24XJQK2qqqpqB8VAOdBpAz1AxUDE9Shcr5LHQLsehevRusRAt4FOG6gSxUBb8oslP4nPQHwUrkeRR9FAEHTaQMegzkAXrkfhWrPAQOPd3d3dsr5AL/nFkl8VwkBvoNMG2nPDQJVfLPnlycNAkcL1KPwpxkB32kCnTQDGQGEs+cWyZcRA5xdLfnFywUA50GkDvbDCQMFY8ovl8cZAyJJfLJnZykBDpw10WgjMQB+F61E4rNBAnjbQaVM30ECAseQX6/TPQDjQaQPdy8dA4N3d3V02yUDjehSuZ0fJQAk6baAzDMpAxfUoXI+Ex0Av+cWSP6TIQOcXS34Rl8lAkcL1KFysyUBjLPnFsonKQJVfLPmF68lANTMzMxNny0AM16NwPe/IQKkNdNrgUMlAIIXrURgvyUCbmZmZWUbLQMFY8otFdcxA02kDnXZFykBfj8L1aGDGQEdERESkzcRAWFVVVfWDx0CtqqqqKvPHQHXaQKft2MVAXo/C9QiYwUAJOm2gE4TBQJdfLPkFO7tA",
          "dtype": "f8"
         }
        },
        {
         "line": {
          "color": "green",
          "dash": "dash",
          "width": 2
         },
         "mode": "lines",
         "name": "Trendline / Average Expenses",
         "type": "scatter",
         "x": [
          "2018-07-01T00:00:00.000000000",
          "2018-08-01T00:00:00.000000000",
          "2018-09-01T00:00:00.000000000",
          "2018-10-01T00:00:00.000000000",
          "2018-11-01T00:00:00.000000000",
          "2018-12-01T00:00:00.000000000",
          "2019-01-01T00:00:00.000000000",
          "2019-02-01T00:00:00.000000000",
          "2019-03-01T00:00:00.000000000",
          "2019-04-01T00:00:00.000000000",
          "2019-05-01T00:00:00.000000000",
          "2019-06-01T00:00:00.000000000",
          "2019-07-01T00:00:00.000000000",
          "2019-08-01T00:00:00.000000000",
          "2019-09-01T00:00:00.000000000",
          "2019-10-01T00:00:00.000000000",
          "2019-11-01T00:00:00.000000000",
          "2019-12-01T00:00:00.000000000",
          "2020-01-01T00:00:00.000000000",
          "2020-02-01T00:00:00.000000000",
          "2020-03-01T00:00:00.000000000",
          "2020-04-01T00:00:00.000000000",
          "2020-05-01T00:00:00.000000000",
          "2020-06-01T00:00:00.000000000",
          "2020-07-01T00:00:00.000000000",
          "2020-08-01T00:00:00.000000000",
          "2020-09-01T00:00:00.000000000",
          "2020-10-01T00:00:00.000000000",
          "2020-11-01T00:00:00.000000000",
          "2020-12-01T00:00:00.000000000",
          "2021-01-01T00:00:00.000000000",
          "2021-02-01T00:00:00.000000000",
          "2021-03-01T00:00:00.000000000",
          "2021-04-01T00:00:00.000000000",
          "2021-05-01T00:00:00.000000000",
          "2021-06-01T00:00:00.000000000",
          "2021-07-01T00:00:00.000000000",
          "2021-08-01T00:00:00.000000000",
          "2021-09-01T00:00:00.000000000",
          "2021-10-01T00:00:00.000000000",
          "2021-11-01T00:00:00.000000000",
          "2021-12-01T00:00:00.000000000",
          "2022-01-01T00:00:00.000000000",
          "2022-02-01T00:00:00.000000000",
          "2022-03-01T00:00:00.000000000",
          "2022-04-01T00:00:00.000000000",
          "2022-05-01T00:00:00.000000000",
          "2022-06-01T00:00:00.000000000",
          "2022-07-01T00:00:00.000000000",
          "2022-08-01T00:00:00.000000000",
          "2022-09-01T00:00:00.000000000",
          "2022-10-01T00:00:00.000000000",
          "2022-11-01T00:00:00.000000000",
          "2022-12-01T00:00:00.000000000",
          "2023-01-01T00:00:00.000000000",
          "2023-02-01T00:00:00.000000000",
          "2023-03-01T00:00:00.000000000",
          "2023-04-01T00:00:00.000000000",
          "2023-05-01T00:00:00.000000000",
          "2023-06-01T00:00:00.000000000",
          "2023-07-01T00:00:00.000000000",
          "2023-08-01T00:00:00.000000000",
          "2023-09-01T00:00:00.000000000",
          "2023-10-01T00:00:00.000000000",
          "2023-11-01T00:00:00.000000000",
          "2023-12-01T00:00:00.000000000",
          "2024-01-01T00:00:00.000000000",
          "2024-02-01T00:00:00.000000000",
          "2024-03-01T00:00:00.000000000",
          "2024-04-01T00:00:00.000000000",
          "2024-05-01T00:00:00.000000000",
          "2024-06-01T00:00:00.000000000",
          "2024-07-01T00:00:00.000000000",
          "2024-08-01T00:00:00.000000000",
          "2024-09-01T00:00:00.000000000",
          "2024-10-01T00:00:00.000000000",
          "2024-11-01T00:00:00.000000000",
          "2024-12-01T00:00:00.000000000",
          "2025-01-01T00:00:00.000000000",
          "2025-02-01T00:00:00.000000000",
          "2025-03-01T00:00:00.000000000",
          "2025-04-01T00:00:00.000000000",
          "2025-05-01T00:00:00.000000000",
          "2025-06-01T00:00:00.000000000"
         ],
         "y": {
          "bdata": "9Zx1wX4mw0AehbLXFjvDQEdt7+2uT8NAcFUsBEdkw0CZPWka33jDQMIlpjB3jcNA7A3jRg+iw0AV9h9dp7bDQD7eXHM/y8NAZ8aZidffw0CQrtafb/TDQLmWE7YHCcRA4n5QzJ8dxEALZ43iNzLEQDRPyvjPRsRAXTcHD2hbxECGH0QlAHDEQLAHgTuYhMRA2e+9UTCZxEAC2PpnyK3EQCvAN35gwsRAVKh0lPjWxEB9kLGqkOvEQKZ47sAoAMVAz2Ar18AUxUD4SGjtWCnFQCExpQPxPcVAShniGYlSxUB0AR8wIWfFQJ3pW0a5e8VAxtGYXFGQxUDvudVy6aTFQBiiEomBucVAQYpPnxnOxUBqcoy1seLFQJNayctJ98VAvEIG4uELxkDlKkP4eSDGQA4TgA4SNcZAOPu8JKpJxkBh4/k6Ql7GQIrLNlHacsZAs7NzZ3KHxkDcm7B9CpzGQAWE7ZOisMZALmwqqjrFxkBXVGfA0tnGQIA8pNZq7sZAqSTh7AIDx0DSDB4DmxfHQPz0WhkzLMdAJN2XL8tAx0BOxdRFY1XHQHetEVz7acdAoJVOcpN+x0DJfYuIK5PHQPJlyJ7Dp8dAG04FtVu8x0BENkLL89DHQG0ef+GL5cdAlga89yP6x0DA7vgNvA7IQOjWNSRUI8hAEr9yOuw3yEA7p69QhEzIQGSP7GYcYchAjXcpfbR1yEC2X2aTTIrIQN9Ho6nknshACDDgv3yzyEAxGB3WFMjIQFoAWuys3MhAhOiWAkXxyECs0NMY3QXJQNa4EC91GslA/6BNRQ0vyUAoiYpbpUPJQFFxx3E9WMlAelkEiNVsyUCjQUGebYHJQMwpfrQFlslA9RG7yp2qyUAe+vfgNb/JQEjiNPfN08lA",
          "dtype": "f8"
         }
        },
        {
         "marker": {
          "color": "rgba(0,0,0,0)",
          "size": 0
         },
         "mode": "markers",
         "name": "🏠 Home Periods",
         "type": "scatter",
         "x": [
          null
         ],
         "y": [
          null
         ]
        },
        {
         "marker": {
          "color": "rgba(70, 130, 180, 0.3)",
          "size": 12
         },
         "mode": "markers",
         "name": "Turtle Creek (Home)",
         "type": "scatter",
         "x": [
          null
         ],
         "y": [
          null
         ]
        },
        {
         "marker": {
          "color": "rgba(152, 251, 152, 0.3)",
          "size": 12
         },
         "mode": "markers",
         "name": "Milroy (Home)",
         "type": "scatter",
         "x": [
          null
         ],
         "y": [
          null
         ]
        }
       ],
       "layout": {
        "annotations": [
         {
          "font": {
           "color": "gray",
           "size": 13
          },
          "showarrow": false,
          "text": "Turtle Creek",
          "x": "2018-08-01T00:00:00",
          "y": 0.96,
          "yref": "paper"
         },
         {
          "font": {
           "color": "gray",
           "size": 13
          },
          "showarrow": false,
          "text": "Milroy",
          "x": "2020-08-01T00:00:00",
          "y": 0.96,
          "yref": "paper"
         },
         {
          "arrowhead": 2,
          "ax": 0,
          "ay": -30,
          "bgcolor": "white",
          "font": {
           "family": "Segoe UI Emoji",
           "size": 14
          },
          "showarrow": true,
          "text": "🏠 Move-In & Closing Costs",
          "x": "2020-12-01T00:00:00",
          "y": 32619.199999999997
         },
         {
          "arrowhead": 2,
          "ax": 0,
          "ay": -30,
          "bgcolor": "white",
          "font": {
           "family": "Segoe UI Emoji",
           "size": 14
          },
          "showarrow": true,
          "text": "🎓 Student Loan",
          "x": "2021-11-01T00:00:00",
          "y": 29237.02
         },
         {
          "arrowhead": 2,
          "ax": 0,
          "ay": -30,
          "bgcolor": "white",
          "font": {
           "family": "Segoe UI Emoji",
           "size": 14
          },
          "showarrow": true,
          "text": "🎓 Student Loan",
          "x": "2020-03-01T00:00:00",
          "y": 22781.14
         },
         {
          "arrowhead": 2,
          "ax": 0,
          "ay": -30,
          "bgcolor": "white",
          "font": {
           "family": "Segoe UI Emoji",
           "size": 14
          },
          "showarrow": true,
          "text": "🚗 Car Downpayment",
          "x": "2023-03-01T00:00:00",
          "y": 23087.1
         },
         {
          "arrowhead": 2,
          "ax": 0,
          "ay": -30,
          "bgcolor": "white",
          "font": {
           "family": "Segoe UI Emoji",
           "size": 14
          },
          "showarrow": true,
          "text": "🎹 Justin's Piano",
          "x": "2021-03-01T00:00:00",
          "y": 19041.01
         },
         {
          "arrowhead": 2,
          "ax": 0,
          "ay": -30,
          "bgcolor": "white",
          "font": {
           "family": "Segoe UI Emoji",
           "size": 14
          },
          "showarrow": true,
          "text": "📦 Justin Moves Out",
          "x": "2025-04-01T00:00:00",
          "y": 8070.47
         },
         {
          "arrowhead": 2,
          "ax": 0,
          "ay": -30,
          "bgcolor": "white",
          "font": {
           "family": "Segoe UI Emoji",
           "size": 14
          },
          "showarrow": true,
          "text": "🏠 Move-In & Closing Costs",
          "x": "2020-12-01T00:00:00",
          "y": 32619.199999999997
         },
         {
          "arrowhead": 2,
          "ax": 0,
          "ay": -30,
          "bgcolor": "rgba(255,255,255,0.8)",
          "font": {
           "family": "Segoe UI Emoji",
           "size": 14
          },
          "showarrow": true,
          "text": "🎓 Student Loan",
          "x": "2021-11-01T00:00:00",
          "y": 29237.02
         },
         {
          "arrowhead": 2,
          "ax": 0,
          "ay": -30,
          "bgcolor": "rgba(255,255,255,0.8)",
          "font": {
           "family": "Segoe UI Emoji",
           "size": 14
          },
          "showarrow": true,
          "text": "🎓 Student Loan",
          "x": "2020-03-01T00:00:00",
          "y": 22781.14
         },
         {
          "arrowhead": 2,
          "ax": 0,
          "ay": -30,
          "bgcolor": "white",
          "font": {
           "family": "Segoe UI Emoji",
           "size": 14
          },
          "showarrow": true,
          "text": "🚗 Car Downpayment",
          "x": "2023-03-01T00:00:00",
          "y": 23087.1
         },
         {
          "arrowhead": 2,
          "ax": 0,
          "ay": -30,
          "bgcolor": "white",
          "font": {
           "family": "Segoe UI Emoji",
           "size": 14
          },
          "showarrow": true,
          "text": "🎹 Justin's Piano",
          "x": "2021-03-01T00:00:00",
          "y": 19041.01
         },
         {
          "arrowhead": 2,
          "ax": 0,
          "ay": -30,
          "bgcolor": "white",
          "font": {
           "family": "Segoe UI Emoji",
           "size": 14
          },
          "showarrow": true,
          "text": "📦 Justin Moves Out",
          "x": "2025-04-01T00:00:00",
          "y": 8070.47
         },
         {
          "arrowhead": 1,
          "ax": 0,
          "ay": -30,
          "bgcolor": "lightgreen",
          "font": {
           "color": "black",
           "size": 12
          },
          "showarrow": true,
          "text": "$9,805",
          "x": "2018-07-01T00:00:00",
          "y": 9804.990278913154
         },
         {
          "arrowhead": 1,
          "ax": 0,
          "ay": -30,
          "bgcolor": "lightgreen",
          "font": {
           "color": "black",
           "size": 12
          },
          "showarrow": true,
          "text": "$13,224",
          "x": "2025-06-01T00:00:00",
          "y": 13223.60910664605
         },
         {
          "arrowhead": 2,
          "ax": 0,
          "ay": -40,
          "bgcolor": "mistyrose",
          "font": {
           "color": "firebrick",
           "size": 13
          },
          "showarrow": true,
          "text": "🔥 Justin Reduces Income",
          "x": "2025-02-01",
          "y": 0.95,
          "yref": "paper"
         }
        ],
        "font": {
         "size": 16
        },
        "height": 600,
        "legend": {
         "font": {
          "size": 13
         },
         "orientation": "h",
         "traceorder": "normal",
         "x": 0.5,
         "xanchor": "center",
         "y": -0.2,
         "yanchor": "top"
        },
        "margin": {
         "b": 100,
         "l": 60,
         "r": 40,
         "t": 60
        },
        "shapes": [
         {
          "fillcolor": "rgba(70, 130, 180, 0.15)",
          "layer": "below",
          "line": {
           "width": 0
          },
          "type": "rect",
          "x0": "2018-07-01",
          "x1": "2020-07-01",
          "xref": "x",
          "y0": 0,
          "y1": 1,
          "yref": "y domain"
         },
         {
          "fillcolor": "rgba(152, 251, 152, 0.15)",
          "layer": "below",
          "line": {
           "width": 0
          },
          "type": "rect",
          "x0": "2020-07-01",
          "x1": "2025-06-01",
          "xref": "x",
          "y0": 0,
          "y1": 1,
          "yref": "y domain"
         },
         {
          "layer": "above",
          "line": {
           "color": "red",
           "dash": "dot",
           "width": 2
          },
          "type": "line",
          "x0": "2025-04-01",
          "x1": "2025-04-01",
          "y0": 0,
          "y1": 131.92662079185416
         },
         {
          "layer": "above",
          "line": {
           "color": "firebrick",
           "dash": "dot",
           "width": 2
          },
          "type": "line",
          "x0": "2025-02-01",
          "x1": "2025-02-01",
          "y0": 0,
          "y1": 1,
          "yref": "paper"
         }
        ],
        "template": {
         "data": {
          "bar": [
           {
            "error_x": {
             "color": "#2a3f5f"
            },
            "error_y": {
             "color": "#2a3f5f"
            },
            "marker": {
             "line": {
              "color": "white",
              "width": 0.5
             },
             "pattern": {
              "fillmode": "overlay",
              "size": 10,
              "solidity": 0.2
             }
            },
            "type": "bar"
           }
          ],
          "barpolar": [
           {
            "marker": {
             "line": {
              "color": "white",
              "width": 0.5
             },
             "pattern": {
              "fillmode": "overlay",
              "size": 10,
              "solidity": 0.2
             }
            },
            "type": "barpolar"
           }
          ],
          "carpet": [
           {
            "aaxis": {
             "endlinecolor": "#2a3f5f",
             "gridcolor": "#C8D4E3",
             "linecolor": "#C8D4E3",
             "minorgridcolor": "#C8D4E3",
             "startlinecolor": "#2a3f5f"
            },
            "baxis": {
             "endlinecolor": "#2a3f5f",
             "gridcolor": "#C8D4E3",
             "linecolor": "#C8D4E3",
             "minorgridcolor": "#C8D4E3",
             "startlinecolor": "#2a3f5f"
            },
            "type": "carpet"
           }
          ],
          "choropleth": [
           {
            "colorbar": {
             "outlinewidth": 0,
             "ticks": ""
            },
            "type": "choropleth"
           }
          ],
          "contour": [
           {
            "colorbar": {
             "outlinewidth": 0,
             "ticks": ""
            },
            "colorscale": [
             [
              0,
              "#0d0887"
             ],
             [
              0.1111111111111111,
              "#46039f"
             ],
             [
              0.2222222222222222,
              "#7201a8"
             ],
             [
              0.3333333333333333,
              "#9c179e"
             ],
             [
              0.4444444444444444,
              "#bd3786"
             ],
             [
              0.5555555555555556,
              "#d8576b"
             ],
             [
              0.6666666666666666,
              "#ed7953"
             ],
             [
              0.7777777777777778,
              "#fb9f3a"
             ],
             [
              0.8888888888888888,
              "#fdca26"
             ],
             [
              1,
              "#f0f921"
             ]
            ],
            "type": "contour"
           }
          ],
          "contourcarpet": [
           {
            "colorbar": {
             "outlinewidth": 0,
             "ticks": ""
            },
            "type": "contourcarpet"
           }
          ],
          "heatmap": [
           {
            "colorbar": {
             "outlinewidth": 0,
             "ticks": ""
            },
            "colorscale": [
             [
              0,
              "#0d0887"
             ],
             [
              0.1111111111111111,
              "#46039f"
             ],
             [
              0.2222222222222222,
              "#7201a8"
             ],
             [
              0.3333333333333333,
              "#9c179e"
             ],
             [
              0.4444444444444444,
              "#bd3786"
             ],
             [
              0.5555555555555556,
              "#d8576b"
             ],
             [
              0.6666666666666666,
              "#ed7953"
             ],
             [
              0.7777777777777778,
              "#fb9f3a"
             ],
             [
              0.8888888888888888,
              "#fdca26"
             ],
             [
              1,
              "#f0f921"
             ]
            ],
            "type": "heatmap"
           }
          ],
          "histogram": [
           {
            "marker": {
             "pattern": {
              "fillmode": "overlay",
              "size": 10,
              "solidity": 0.2
             }
            },
            "type": "histogram"
           }
          ],
          "histogram2d": [
           {
            "colorbar": {
             "outlinewidth": 0,
             "ticks": ""
            },
            "colorscale": [
             [
              0,
              "#0d0887"
             ],
             [
              0.1111111111111111,
              "#46039f"
             ],
             [
              0.2222222222222222,
              "#7201a8"
             ],
             [
              0.3333333333333333,
              "#9c179e"
             ],
             [
              0.4444444444444444,
              "#bd3786"
             ],
             [
              0.5555555555555556,
              "#d8576b"
             ],
             [
              0.6666666666666666,
              "#ed7953"
             ],
             [
              0.7777777777777778,
              "#fb9f3a"
             ],
             [
              0.8888888888888888,
              "#fdca26"
             ],
             [
              1,
              "#f0f921"
             ]
            ],
            "type": "histogram2d"
           }
          ],
          "histogram2dcontour": [
           {
            "colorbar": {
             "outlinewidth": 0,
             "ticks": ""
            },
            "colorscale": [
             [
              0,
              "#0d0887"
             ],
             [
              0.1111111111111111,
              "#46039f"
             ],
             [
              0.2222222222222222,
              "#7201a8"
             ],
             [
              0.3333333333333333,
              "#9c179e"
             ],
             [
              0.4444444444444444,
              "#bd3786"
             ],
             [
              0.5555555555555556,
              "#d8576b"
             ],
             [
              0.6666666666666666,
              "#ed7953"
             ],
             [
              0.7777777777777778,
              "#fb9f3a"
             ],
             [
              0.8888888888888888,
              "#fdca26"
             ],
             [
              1,
              "#f0f921"
             ]
            ],
            "type": "histogram2dcontour"
           }
          ],
          "mesh3d": [
           {
            "colorbar": {
             "outlinewidth": 0,
             "ticks": ""
            },
            "type": "mesh3d"
           }
          ],
          "parcoords": [
           {
            "line": {
             "colorbar": {
              "outlinewidth": 0,
              "ticks": ""
             }
            },
            "type": "parcoords"
           }
          ],
          "pie": [
           {
            "automargin": true,
            "type": "pie"
           }
          ],
          "scatter": [
           {
            "fillpattern": {
             "fillmode": "overlay",
             "size": 10,
             "solidity": 0.2
            },
            "type": "scatter"
           }
          ],
          "scatter3d": [
           {
            "line": {
             "colorbar": {
              "outlinewidth": 0,
              "ticks": ""
             }
            },
            "marker": {
             "colorbar": {
              "outlinewidth": 0,
              "ticks": ""
             }
            },
            "type": "scatter3d"
           }
          ],
          "scattercarpet": [
           {
            "marker": {
             "colorbar": {
              "outlinewidth": 0,
              "ticks": ""
             }
            },
            "type": "scattercarpet"
           }
          ],
          "scattergeo": [
           {
            "marker": {
             "colorbar": {
              "outlinewidth": 0,
              "ticks": ""
             }
            },
            "type": "scattergeo"
           }
          ],
          "scattergl": [
           {
            "marker": {
             "colorbar": {
              "outlinewidth": 0,
              "ticks": ""
             }
            },
            "type": "scattergl"
           }
          ],
          "scattermap": [
           {
            "marker": {
             "colorbar": {
              "outlinewidth": 0,
              "ticks": ""
             }
            },
            "type": "scattermap"
           }
          ],
          "scattermapbox": [
           {
            "marker": {
             "colorbar": {
              "outlinewidth": 0,
              "ticks": ""
             }
            },
            "type": "scattermapbox"
           }
          ],
          "scatterpolar": [
           {
            "marker": {
             "colorbar": {
              "outlinewidth": 0,
              "ticks": ""
             }
            },
            "type": "scatterpolar"
           }
          ],
          "scatterpolargl": [
           {
            "marker": {
             "colorbar": {
              "outlinewidth": 0,
              "ticks": ""
             }
            },
            "type": "scatterpolargl"
           }
          ],
          "scatterternary": [
           {
            "marker": {
             "colorbar": {
              "outlinewidth": 0,
              "ticks": ""
             }
            },
            "type": "scatterternary"
           }
          ],
          "surface": [
           {
            "colorbar": {
             "outlinewidth": 0,
             "ticks": ""
            },
            "colorscale": [
             [
              0,
              "#0d0887"
             ],
             [
              0.1111111111111111,
              "#46039f"
             ],
             [
              0.2222222222222222,
              "#7201a8"
             ],
             [
              0.3333333333333333,
              "#9c179e"
             ],
             [
              0.4444444444444444,
              "#bd3786"
             ],
             [
              0.5555555555555556,
              "#d8576b"
             ],
             [
              0.6666666666666666,
              "#ed7953"
             ],
             [
              0.7777777777777778,
              "#fb9f3a"
             ],
             [
              0.8888888888888888,
              "#fdca26"
             ],
             [
              1,
              "#f0f921"
             ]
            ],
            "type": "surface"
           }
          ],
          "table": [
           {
            "cells": {
             "fill": {
              "color": "#EBF0F8"
             },
             "line": {
              "color": "white"
             }
            },
            "header": {
             "fill": {
              "color": "#C8D4E3"
             },
             "line": {
              "color": "white"
             }
            },
            "type": "table"
           }
          ]
         },
         "layout": {
          "annotationdefaults": {
           "arrowcolor": "#2a3f5f",
           "arrowhead": 0,
           "arrowwidth": 1
          },
          "autotypenumbers": "strict",
          "coloraxis": {
           "colorbar": {
            "outlinewidth": 0,
            "ticks": ""
           }
          },
          "colorscale": {
           "diverging": [
            [
             0,
             "#8e0152"
            ],
            [
             0.1,
             "#c51b7d"
            ],
            [
             0.2,
             "#de77ae"
            ],
            [
             0.3,
             "#f1b6da"
            ],
            [
             0.4,
             "#fde0ef"
            ],
            [
             0.5,
             "#f7f7f7"
            ],
            [
             0.6,
             "#e6f5d0"
            ],
            [
             0.7,
             "#b8e186"
            ],
            [
             0.8,
             "#7fbc41"
            ],
            [
             0.9,
             "#4d9221"
            ],
            [
             1,
             "#276419"
            ]
           ],
           "sequential": [
            [
             0,
             "#0d0887"
            ],
            [
             0.1111111111111111,
             "#46039f"
            ],
            [
             0.2222222222222222,
             "#7201a8"
            ],
            [
             0.3333333333333333,
             "#9c179e"
            ],
            [
             0.4444444444444444,
             "#bd3786"
            ],
            [
             0.5555555555555556,
             "#d8576b"
            ],
            [
             0.6666666666666666,
             "#ed7953"
            ],
            [
             0.7777777777777778,
             "#fb9f3a"
            ],
            [
             0.8888888888888888,
             "#fdca26"
            ],
            [
             1,
             "#f0f921"
            ]
           ],
           "sequentialminus": [
            [
             0,
             "#0d0887"
            ],
            [
             0.1111111111111111,
             "#46039f"
            ],
            [
             0.2222222222222222,
             "#7201a8"
            ],
            [
             0.3333333333333333,
             "#9c179e"
            ],
            [
             0.4444444444444444,
             "#bd3786"
            ],
            [
             0.5555555555555556,
             "#d8576b"
            ],
            [
             0.6666666666666666,
             "#ed7953"
            ],
            [
             0.7777777777777778,
             "#fb9f3a"
            ],
            [
             0.8888888888888888,
             "#fdca26"
            ],
            [
             1,
             "#f0f921"
            ]
           ]
          },
          "colorway": [
           "#636efa",
           "#EF553B",
           "#00cc96",
           "#ab63fa",
           "#FFA15A",
           "#19d3f3",
           "#FF6692",
           "#B6E880",
           "#FF97FF",
           "#FECB52"
          ],
          "font": {
           "color": "#2a3f5f"
          },
          "geo": {
           "bgcolor": "white",
           "lakecolor": "white",
           "landcolor": "white",
           "showlakes": true,
           "showland": true,
           "subunitcolor": "#C8D4E3"
          },
          "hoverlabel": {
           "align": "left"
          },
          "hovermode": "closest",
          "mapbox": {
           "style": "light"
          },
          "paper_bgcolor": "white",
          "plot_bgcolor": "white",
          "polar": {
           "angularaxis": {
            "gridcolor": "#EBF0F8",
            "linecolor": "#EBF0F8",
            "ticks": ""
           },
           "bgcolor": "white",
           "radialaxis": {
            "gridcolor": "#EBF0F8",
            "linecolor": "#EBF0F8",
            "ticks": ""
           }
          },
          "scene": {
           "xaxis": {
            "backgroundcolor": "white",
            "gridcolor": "#DFE8F3",
            "gridwidth": 2,
            "linecolor": "#EBF0F8",
            "showbackground": true,
            "ticks": "",
            "zerolinecolor": "#EBF0F8"
           },
           "yaxis": {
            "backgroundcolor": "white",
            "gridcolor": "#DFE8F3",
            "gridwidth": 2,
            "linecolor": "#EBF0F8",
            "showbackground": true,
            "ticks": "",
            "zerolinecolor": "#EBF0F8"
           },
           "zaxis": {
            "backgroundcolor": "white",
            "gridcolor": "#DFE8F3",
            "gridwidth": 2,
            "linecolor": "#EBF0F8",
            "showbackground": true,
            "ticks": "",
            "zerolinecolor": "#EBF0F8"
           }
          },
          "shapedefaults": {
           "line": {
            "color": "#2a3f5f"
           }
          },
          "ternary": {
           "aaxis": {
            "gridcolor": "#DFE8F3",
            "linecolor": "#A2B1C6",
            "ticks": ""
           },
           "baxis": {
            "gridcolor": "#DFE8F3",
            "linecolor": "#A2B1C6",
            "ticks": ""
           },
           "bgcolor": "white",
           "caxis": {
            "gridcolor": "#DFE8F3",
            "linecolor": "#A2B1C6",
            "ticks": ""
           }
          },
          "title": {
           "x": 0.05
          },
          "xaxis": {
           "automargin": true,
           "gridcolor": "#EBF0F8",
           "linecolor": "#EBF0F8",
           "ticks": "",
           "title": {
            "standoff": 15
           },
           "zerolinecolor": "#EBF0F8",
           "zerolinewidth": 2
          },
          "yaxis": {
           "automargin": true,
           "gridcolor": "#EBF0F8",
           "linecolor": "#EBF0F8",
           "ticks": "",
           "title": {
            "standoff": 15
           },
           "zerolinecolor": "#EBF0F8",
           "zerolinewidth": 2
          }
         }
        },
        "title": {
         "text": "Monthly Expenses with Moving Average and Trendline"
        },
        "width": 1200,
        "xaxis": {
         "title": {
          "text": "Month"
         }
        },
        "yaxis": {
         "title": {
          "text": "Amount ($)"
         }
        }
       }
      },
      "image/png": "[encoded data removed]"
     },
     "metadata": {},
     "output_type": "display_data"
    }
   ],
   "source": [
    "\n",
    "df = pd.read_csv('normalized_data.csv')\n",
    "# ==== FILTER + AGGREGATE ====\n",
    "df['date'] = pd.to_datetime(df['date'], errors='coerce')\n",
    "df['amount'] = pd.to_numeric(df['amount'], errors='coerce')\n",
    "df = df.dropna(subset=['date', 'amount'])\n",
    "df['month'] = df['date'].dt.to_period('M').dt.to_timestamp()\n",
    "\n",
    "# Filter relevant categories\n",
    "categories_of_interest = [\n",
    "    'Misc Household Expense', 'Groceries', 'Medical / Medicine',\n",
    "    'Utility Account', 'Amazon.com', 'Justin - Car',\n",
    "    'Spenser - Car', 'Mortgage and Housing', 'Spenser - Educational Expense', 'Restaurant Expense',\n",
    "    'Spenser - Mother', 'Misc Entertainment', 'Justin - Solo Entertainment', 'Spenser - Solo Entertainment',\n",
    "    'Justin - Moving from Milroy', 'Checking Withdrawal',\n",
    "]\n",
    "\n",
    "expenses_df = df[df['normalized_payee'].isin(categories_of_interest)].copy()\n",
    "expenses_df = expenses_df[\n",
    "    (expenses_df['date'] >= pd.Timestamp('2018-07-01')) &\n",
    "    (expenses_df['date'] <= pd.Timestamp('2025-06-28'))\n",
    "]\n",
    "monthly_expenses = expenses_df.groupby('month')['amount'].sum().abs()\n",
    "\n",
    "# Income series\n",
    "income_df = df[df['normalized_payee'].isin(['Spenser Income', 'Justin Income'])].copy()\n",
    "monthly_income = income_df.groupby('month')['amount'].sum()\n",
    "\n",
    "# Combine and compute %\n",
    "combined = pd.concat([monthly_expenses, monthly_income], axis=1)\n",
    "combined.columns = ['expenses', 'income']\n",
    "combined = combined.dropna()\n",
    "combined['pct_of_income'] = combined['expenses'] / combined['income'] * 100\n",
    "\n",
    "\n",
    "# Smooth and trendline\n",
    "smoothed = combined['pct_of_income'].rolling(window=3, min_periods=1).mean()\n",
    "X = np.arange(len(smoothed)).reshape(-1, 1)\n",
    "y = smoothed.values\n",
    "model = LinearRegression().fit(X, y)\n",
    "trend = model.predict(X)\n",
    "\n",
    "# ==== MOVING AVERAGE ====\n",
    "smoothed = monthly_expenses.rolling(window=3, min_periods=1).mean()\n",
    "\n",
    "# ==== TRENDLINE ====\n",
    "X = np.arange(len(smoothed)).reshape(-1, 1)\n",
    "y = smoothed.values\n",
    "model = LinearRegression().fit(X, y)\n",
    "trend = model.predict(X)\n",
    "\n",
    "# ==== HOVER DETAIL DATA ====\n",
    "def format_hover(row):\n",
    "    sorted_items = sorted(row.items(), key=lambda x: abs(x[1]), reverse=True)\n",
    "    return '<br>'.join(f\"{col}: ${abs(amt):,.2f}\" for col, amt in sorted_items if amt != 0)\n",
    "\n",
    "hover_data = (\n",
    "    filtered_df.groupby(['month', 'normalized_payee'])['amount']\n",
    "    .sum()\n",
    "    .unstack(fill_value=0)\n",
    "    .apply(format_hover, axis=1)\n",
    ")\n",
    "hover_data.index = hover_data.index.to_timestamp()\n",
    "\n",
    "# ==== Find Top Expense Months ====\n",
    "top_expenses = monthly_expenses.sort_values(ascending=False)\n",
    "labels = {\n",
    "    top_expenses.index[0]: \"🏠 Move-In & Closing Costs\",\n",
    "    top_expenses.index[1]: \"🎓 Student Loan\",\n",
    "    top_expenses.index[3]: \"🎓 Student Loan\",\n",
    "    top_expenses.index[2]: \"🚗 Car Downpayment\",\n",
    "    top_expenses.index[4]: \"🎹 Justin's Piano\",\n",
    "    pd.Timestamp(\"2025-04-01\"): \"📦 Justin Moves Out\",\n",
    "}\n",
    "\n",
    "# ==== Plotly Plot ====\n",
    "fig = go.Figure()\n",
    "\n",
    "# Monthly Expenses\n",
    "fig.add_trace(go.Scatter(\n",
    "    x=monthly_expenses.index,\n",
    "    y=monthly_expenses,\n",
    "    mode='lines+markers',\n",
    "    name='Monthly Expenses',\n",
    "    line=dict(color='rgba(0,100,200,0.6)', width=2),\n",
    "    text=hover_data.reindex(monthly_expenses.index, fill_value=''),\n",
    "    hoverinfo='text+y'\n",
    "))\n",
    "\n",
    "# Moving Average\n",
    "fig.add_trace(go.Scatter(\n",
    "    x=smoothed.index,\n",
    "    y=smoothed,\n",
    "    mode='lines',\n",
    "    name='3-Month Moving Avg',\n",
    "    line=dict(color='orange', width=3)\n",
    "))\n",
    "\n",
    "# Trendline\n",
    "fig.add_trace(go.Scatter(\n",
    "    x=monthly_expenses.index,\n",
    "    y=trend,\n",
    "    mode='lines',\n",
    "    name='Trendline / Average Expenses',\n",
    "    line=dict(color='green', width=2, dash='dash')\n",
    "))\n",
    "\n",
    "# Add shaded home periods\n",
    "fig.add_vrect(\n",
    "    x0=\"2018-07-01\", x1=\"2020-07-01\",\n",
    "    fillcolor=\"rgba(70, 130, 180, 0.15)\", layer=\"below\", line_width=0\n",
    ")\n",
    "fig.add_annotation(\n",
    "    x=pd.Timestamp(\"2018-08-01\"),\n",
    "    yref=\"paper\",\n",
    "    y=0.96,\n",
    "    text=\"Turtle Creek\",\n",
    "    showarrow=False,\n",
    "    font=dict(size=13, color=\"gray\")\n",
    ")\n",
    "fig.add_vrect(\n",
    "    x0=\"2020-07-01\", x1=\"2025-06-01\",\n",
    "    fillcolor=\"rgba(152, 251, 152, 0.15)\", layer=\"below\", line_width=0\n",
    ")\n",
    "fig.add_annotation(\n",
    "    x=pd.Timestamp(\"2020-08-01\"),\n",
    "    yref=\"paper\",\n",
    "    y=0.96,\n",
    "    text=\"Milroy\",\n",
    "    showarrow=False,\n",
    "    font=dict(size=13, color=\"gray\")\n",
    ")\n",
    "# Optional: Emphasize visually with a shape marker or callout\n",
    "fig.add_shape(\n",
    "    type=\"line\",\n",
    "    x0=\"2025-04-01\",\n",
    "    x1=\"2025-04-01\",\n",
    "    y0=0,\n",
    "    y1=combined['pct_of_income'].max(),\n",
    "    line=dict(color=\"red\", width=2, dash=\"dot\"),\n",
    "    layer=\"above\"\n",
    ")\n",
    "\n",
    "# Inside your loop:\n",
    "for date, label in labels.items():\n",
    "    is_milroy = \"Milroy\" in label\n",
    "    fig.add_annotation(\n",
    "        x=date,\n",
    "        y=monthly_expenses.get(date, smoothed.get(date, 0)),\n",
    "        text=label,\n",
    "        showarrow=True,\n",
    "        arrowhead=2,\n",
    "        ax=0,\n",
    "        ay=-30 if is_milroy else -30,  # <--- make it shorter\n",
    "        bgcolor=\"white\",\n",
    "        font=dict(size=14, family=\"Segoe UI Emoji\")\n",
    "    )\n",
    "\n",
    "\n",
    "for date, label in labels.items():\n",
    "    y_val = monthly_expenses.get(date, smoothed.get(date, 0))\n",
    "    bgcolor = \"rgba(255,255,255,0.8)\" if \"Student Loan\" in label else \"white\"\n",
    "\n",
    "    fig.add_annotation(\n",
    "        x=date,\n",
    "        y=y_val,\n",
    "        text=label,\n",
    "        showarrow=True,\n",
    "        arrowhead=2,\n",
    "        ax=0,\n",
    "        ay=-30,\n",
    "        bgcolor=bgcolor,\n",
    "        font=dict(size=14, family=\"Segoe UI Emoji\")\n",
    "    )\n",
    "\n",
    "\n",
    "# Annotate beginning and end of trendline\n",
    "fig.add_annotation(\n",
    "    x=monthly_expenses.index[0],\n",
    "    y=trend[0],\n",
    "    text=f\"${trend[0]:,.0f}\",\n",
    "    showarrow=True,\n",
    "    arrowhead=1,\n",
    "    ax=0,\n",
    "    ay=-30,\n",
    "    bgcolor=\"lightgreen\",\n",
    "    font=dict(size=12, color=\"black\")\n",
    ")\n",
    "fig.add_annotation(\n",
    "    x=monthly_expenses.index[-1],\n",
    "    y=trend[-1],\n",
    "    text=f\"${trend[-1]:,.0f}\",\n",
    "    showarrow=True,\n",
    "    arrowhead=1,\n",
    "    ax=0,\n",
    "    ay=-30,\n",
    "    bgcolor=\"lightgreen\",\n",
    "    font=dict(size=12, color=\"black\")\n",
    ")\n",
    "\n",
    "# Dummy traces to display legend for home periods\n",
    "fig.add_trace(go.Scatter(\n",
    "    x=[None], y=[None],\n",
    "    mode='markers',\n",
    "    marker=dict(size=0, color='rgba(0,0,0,0)'),\n",
    "    name=\"🏠 Home Periods\"\n",
    "))\n",
    "fig.add_trace(go.Scatter(\n",
    "    x=[None], y=[None],\n",
    "    mode='markers',\n",
    "    marker=dict(size=12, color='rgba(70, 130, 180, 0.3)'),  # Turtle Creek color\n",
    "    name=\"Turtle Creek (Home)\"\n",
    "))\n",
    "fig.add_trace(go.Scatter(\n",
    "    x=[None], y=[None],\n",
    "    mode='markers',\n",
    "    marker=dict(size=12, color='rgba(152, 251, 152, 0.3)'),  # Milroy color\n",
    "    name=\"Milroy (Home)\"\n",
    "))\n",
    "\n",
    "# Layout\n",
    "fig.update_layout(\n",
    "    title='Monthly Expenses with Moving Average and Trendline',\n",
    "    xaxis_title='Month',\n",
    "    yaxis_title='Amount ($)',\n",
    "    template='plotly_white',\n",
    "    legend=dict(\n",
    "        orientation=\"h\",\n",
    "        yanchor=\"top\",\n",
    "        y=-0.2,\n",
    "        xanchor=\"center\",\n",
    "        x=0.5,\n",
    "        traceorder=\"normal\",\n",
    "        font=dict(size=13)\n",
    "    ),\n",
    "    width=1200,\n",
    "    height=600,\n",
    "    font=dict(size=16),\n",
    "    margin=dict(l=60, r=40, t=60, b=100)  # Increase bottom margin slightly for space\n",
    ")\n",
    "\n",
    "fig.add_shape(\n",
    "    type=\"line\",\n",
    "    x0=\"2025-02-01\",\n",
    "    x1=\"2025-02-01\",\n",
    "    y0=0,\n",
    "    y1=1,\n",
    "    yref=\"paper\",  # use full chart height\n",
    "    line=dict(color=\"firebrick\", width=2, dash=\"dot\"),\n",
    "    layer=\"above\"\n",
    ")\n",
    "\n",
    "fig.add_annotation(\n",
    "    x=\"2025-02-01\",\n",
    "    y=0.95,\n",
    "    yref=\"paper\",\n",
    "    text=\"🔥 Justin Reduces Income\",\n",
    "    showarrow=True,\n",
    "    arrowhead=2,\n",
    "    ax=0,\n",
    "    ay=-40,\n",
    "    font=dict(size=13, color=\"firebrick\"),\n",
    "    bgcolor=\"mistyrose\"\n",
    ")\n",
    "\n",
    "fig.show()"
   ]
  },
  {
   "cell_type": "code",
   "execution_count": null,
   "id": "43a2fcb6-eea0-4529-be99-cc33b2a19734",
   "metadata": {},
   "outputs": [],
   "source": []
  }
 ],
 "metadata": {
  "kernelspec": {
   "display_name": "matplotlib",
   "language": "python",
   "name": "myenv"
  },
  "language_info": {
   "codemirror_mode": {
    "name": "ipython",
    "version": 3
   },
   "file_extension": ".py",
   "mimetype": "text/x-python",
   "name": "python",
   "nbconvert_exporter": "python",
   "pygments_lexer": "ipython3",
   "version": "3.12.3"
  }
 },
 "nbformat": 4,
 "nbformat_minor": 5
}
